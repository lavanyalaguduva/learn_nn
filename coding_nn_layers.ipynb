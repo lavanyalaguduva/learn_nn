{
  "nbformat": 4,
  "nbformat_minor": 0,
  "metadata": {
    "colab": {
      "provenance": [],
      "authorship_tag": "ABX9TyOEdNJHqC1WngLG2uiIH6wX",
      "include_colab_link": true
    },
    "kernelspec": {
      "name": "python3",
      "display_name": "Python 3"
    },
    "language_info": {
      "name": "python"
    }
  },
  "cells": [
    {
      "cell_type": "markdown",
      "metadata": {
        "id": "view-in-github",
        "colab_type": "text"
      },
      "source": [
        "<a href=\"https://colab.research.google.com/github/lavanyalaguduva/learn_nn/blob/main/coding_nn_layers.ipynb\" target=\"_parent\"><img src=\"https://colab.research.google.com/assets/colab-badge.svg\" alt=\"Open In Colab\"/></a>"
      ]
    },
    {
      "cell_type": "markdown",
      "source": [
        "# **Coding Neurons and layers**"
      ],
      "metadata": {
        "id": "DyB5GgeFdDy3"
      }
    },
    {
      "cell_type": "markdown",
      "source": [
        "**Coding a neuron**\n",
        "\n",
        "\n",
        "\n"
      ],
      "metadata": {
        "id": "ZOx-MJt4d_1g"
      }
    },
    {
      "cell_type": "code",
      "source": [
        "inputs = [1,2,3]\n",
        "weights = [0.3,2.0,0.8]\n",
        "bias = 2.2\n",
        "\n",
        "outputs = inputs[0]*weights[0] + inputs[1]*weights[1] + inputs[2]*weights[2] + bias\n",
        "print(outputs)"
      ],
      "metadata": {
        "colab": {
          "base_uri": "https://localhost:8080/"
        },
        "id": "L_EpaTBGdItL",
        "outputId": "2b7d633a-4451-43b7-f718-452f9222faef"
      },
      "execution_count": null,
      "outputs": [
        {
          "output_type": "stream",
          "name": "stdout",
          "text": [
            "8.9\n"
          ]
        }
      ]
    },
    {
      "cell_type": "markdown",
      "source": [
        "**Coding a layer**"
      ],
      "metadata": {
        "id": "DDdjuIQ3eHCN"
      }
    },
    {
      "cell_type": "code",
      "source": [
        "inputs = [1, 2, 3, 2.5]\n",
        "\n",
        "weights = [[0.2, 0.8, -0.5, 1],\n",
        " [0.5, -0.91, 0.26, -0.5],\n",
        " [-0.26, -0.27, 0.17, 0.87]]\n",
        "\n",
        "weights1=weights[0]\n",
        "weights2=weights[1]\n",
        "weights3=weights[2]\n",
        "\n",
        "bias = [2, 3, 0.5]\n",
        "\n",
        "bias1 = 2\n",
        "bias2 = 3\n",
        "bias3 = 0.5\n",
        "\n",
        "outputs = [\n",
        " # Neuron 1:\n",
        " inputs[0]*weights1[0] +\n",
        " inputs[1]*weights1[1] +\n",
        " inputs[2]*weights1[2] +\n",
        " inputs[3]*weights1[3] + bias1,\n",
        " # Neuron 2:\n",
        " inputs[0]*weights2[0] +\n",
        " inputs[1]*weights2[1] +\n",
        " inputs[2]*weights2[2] +\n",
        " inputs[3]*weights2[3] + bias2,\n",
        " # Neuron 3:\n",
        " inputs[0]*weights3[0] +\n",
        " inputs[1]*weights3[1] +\n",
        " inputs[2]*weights3[2] +\n",
        " inputs[3]*weights3[3] + bias3]\n",
        "\n",
        "print(outputs)\n"
      ],
      "metadata": {
        "colab": {
          "base_uri": "https://localhost:8080/"
        },
        "id": "4iMITrjcgI4n",
        "outputId": "da32871f-d070-4c89-9c18-4fb99d38b199"
      },
      "execution_count": null,
      "outputs": [
        {
          "output_type": "stream",
          "name": "stdout",
          "text": [
            "[4.8, 1.21, 2.385]\n"
          ]
        }
      ]
    },
    {
      "cell_type": "markdown",
      "source": [
        "**Using Loops to code a layer**"
      ],
      "metadata": {
        "id": "XF50d7_AnIQR"
      }
    },
    {
      "cell_type": "code",
      "source": [
        "inputs = [1, 2, 3, 2.5]\n",
        "\n",
        "##LIST OF WEIGHTS\n",
        "weights = [[0.2, 0.8, -0.5, 1],\n",
        " [0.5, -0.91, 0.26, -0.5],\n",
        " [-0.26, -0.27, 0.17, 0.87]]\n",
        "\n",
        "##LIST OF BIASES\n",
        "bias = [2, 3, 0.5]\n",
        "\n",
        "layer_outputs = []\n",
        "\n",
        "for neuron_weight, neuron_bias in zip(weights, bias):\n",
        "  print(f'Neuron Weight: {neuron_weight}')\n",
        "  print(f'Neuron Bias: {neuron_bias}')\n",
        "  print(f'Inputs: {inputs}')\n",
        "  neuron_output = 0\n",
        "  for input,weight in zip(inputs, neuron_weight):\n",
        "    neuron_output += input*weight\n",
        "    print(f'Neuron Output: {neuron_output}')\n",
        "  neuron_output += neuron_bias\n",
        "  print(f'Neuron Output After Bias: {neuron_output}')\n",
        "  layer_outputs.append(neuron_output)\n",
        "print(f'Layer Outputs: {layer_outputs}')\n",
        "\n"
      ],
      "metadata": {
        "colab": {
          "base_uri": "https://localhost:8080/"
        },
        "id": "js6tFG29nNpX",
        "outputId": "b9ddf9b5-df2f-4219-da1e-e26b7f917270"
      },
      "execution_count": null,
      "outputs": [
        {
          "output_type": "stream",
          "name": "stdout",
          "text": [
            "Neuron Weight: [0.2, 0.8, -0.5, 1]\n",
            "Neuron Bias: 2\n",
            "Inputs: [1, 2, 3, 2.5]\n",
            "Neuron Output: 0.2\n",
            "Neuron Output: 1.8\n",
            "Neuron Output: 0.30000000000000004\n",
            "Neuron Output: 2.8\n",
            "Neuron Output After Bias: 4.8\n",
            "Neuron Weight: [0.5, -0.91, 0.26, -0.5]\n",
            "Neuron Bias: 3\n",
            "Inputs: [1, 2, 3, 2.5]\n",
            "Neuron Output: 0.5\n",
            "Neuron Output: -1.32\n",
            "Neuron Output: -0.54\n",
            "Neuron Output: -1.79\n",
            "Neuron Output After Bias: 1.21\n",
            "Neuron Weight: [-0.26, -0.27, 0.17, 0.87]\n",
            "Neuron Bias: 0.5\n",
            "Inputs: [1, 2, 3, 2.5]\n",
            "Neuron Output: -0.26\n",
            "Neuron Output: -0.8\n",
            "Neuron Output: -0.29000000000000004\n",
            "Neuron Output: 1.8849999999999998\n",
            "Neuron Output After Bias: 2.385\n",
            "Layer Outputs: [4.8, 1.21, 2.385]\n"
          ]
        }
      ]
    },
    {
      "cell_type": "markdown",
      "source": [
        "**Using Numpy**"
      ],
      "metadata": {
        "id": "gdJRXJ8avG1s"
      }
    },
    {
      "cell_type": "markdown",
      "source": [
        "Single Neuron"
      ],
      "metadata": {
        "id": "IagA8rrXxnTW"
      }
    },
    {
      "cell_type": "code",
      "source": [
        "import numpy as np\n",
        "inputs = [1, 2, 3, 2.5]\n",
        "weights = [0.2, 0.8, -0.5, 1]\n",
        "bias = 2\n",
        "inputs_array = np.array(inputs)\n",
        "weights_array = np.array(weights)\n",
        "output = np.dot(inputs_array, weights_array) + bias\n",
        "print(output)\n"
      ],
      "metadata": {
        "colab": {
          "base_uri": "https://localhost:8080/"
        },
        "id": "CG-NZyh_vJ7F",
        "outputId": "e236d752-0b1f-4086-831e-b36a48ad32ea"
      },
      "execution_count": null,
      "outputs": [
        {
          "output_type": "stream",
          "name": "stdout",
          "text": [
            "4.8\n"
          ]
        }
      ]
    },
    {
      "cell_type": "markdown",
      "source": [
        "Single Layer"
      ],
      "metadata": {
        "id": "nnn-7--eyOuj"
      }
    },
    {
      "cell_type": "code",
      "source": [
        "import numpy as np\n",
        "\n",
        "inputs = [1.0, 2.0, 3.0, 2.5]\n",
        "weights = [[0.2, 0.8, -0.5, 1],\n",
        "           [0.5, -0.91, 0.26, -0.5],\n",
        "           [-0.26, -0.27, 0.17, 0.87]]\n",
        "biases = [2.0, 3.0, 0.5]\n",
        "\n",
        "# Convert lists to numpy arrays\n",
        "inputs_array = np.array(inputs)\n",
        "weights_array = np.array(weights)\n",
        "biases_array = np.array(biases)\n",
        "\n",
        "print(f'Input: {inputs_array}')\n",
        "print(f'Input array shape: {inputs_array.shape}')\n",
        "weights_array = np.array(weights)\n",
        "print(f'Weights: {weights_array}')\n",
        "print(f'Weight array shape: {weights_array.shape}')\n",
        "biases_array = np.array(biases)\n",
        "output = np.dot(weights_array,inputs_array)\n",
        "print(f'Output array before bias: {output}')\n",
        "print(f'Output array before bias shape: {output.shape}')\n",
        "print(f'Biases: {biases_array}')\n",
        "print(f'Biases array shape: {biases_array.shape}')\n",
        "output = output+biases_array\n",
        "print(output)"
      ],
      "metadata": {
        "colab": {
          "base_uri": "https://localhost:8080/"
        },
        "id": "iJru01nGyRyS",
        "outputId": "3170cabb-10b1-4518-8f6f-d931a536bd1b"
      },
      "execution_count": 45,
      "outputs": [
        {
          "output_type": "stream",
          "name": "stdout",
          "text": [
            "Input: [1.  2.  3.  2.5]\n",
            "Input array shape: (4,)\n",
            "Weights: [[ 0.2   0.8  -0.5   1.  ]\n",
            " [ 0.5  -0.91  0.26 -0.5 ]\n",
            " [-0.26 -0.27  0.17  0.87]]\n",
            "Weight array shape: (3, 4)\n",
            "Output array before bias: [ 2.8   -1.79   1.885]\n",
            "Output array before bias shape: (3,)\n",
            "Biases: [2.  3.  0.5]\n",
            "Biases array shape: (3,)\n",
            "[4.8   1.21  2.385]\n"
          ]
        }
      ]
    },
    {
      "cell_type": "markdown",
      "source": [
        "**Layer with multiple batch of inputs**"
      ],
      "metadata": {
        "id": "glm66biK4a3V"
      }
    },
    {
      "cell_type": "code",
      "source": [
        "inputs = [[1.0, 2.0, 3.0, 2.5],\n",
        "          [2.0, 5.0, -1.0, 2.0],\n",
        "          [-1.5, 2.7, 3.3, -0.8]]\n",
        "weights = [[0.2, 0.8, -0.5, 1],\n",
        "           [0.5, -0.91, 0.26, -0.5],\n",
        "           [-0.26, -0.27, 0.17, 0.87]]\n",
        "biases = [2.0, 3.0, 0.5]\n",
        "\n",
        "# Numpy converts the list to np array internally\n",
        "output = np.dot(inputs,np.array(weights).T) + biases\n",
        "print(output)"
      ],
      "metadata": {
        "colab": {
          "base_uri": "https://localhost:8080/"
        },
        "id": "Mb3lnduv4nXT",
        "outputId": "b1104082-ed82-484b-a87e-cec9f7674840"
      },
      "execution_count": 48,
      "outputs": [
        {
          "output_type": "stream",
          "name": "stdout",
          "text": [
            "[[ 4.8    1.21   2.385]\n",
            " [ 8.9   -1.81   0.2  ]\n",
            " [ 1.41   1.051  0.026]]\n"
          ]
        }
      ]
    },
    {
      "cell_type": "markdown",
      "source": [
        "**Multiple Layers**"
      ],
      "metadata": {
        "id": "KYdw71_higqH"
      }
    },
    {
      "cell_type": "code",
      "source": [
        "inputs = [[1, 2, 3, 2.5],\n",
        "          [2., 5., -1., 2],\n",
        "          [-1.5, 2.7, 3.3, -0.8]]\n",
        "\n",
        "weights1 = [[0.2, 0.8, -0.5, 1],\n",
        "           [0.5, -0.91, 0.26, -0.5],\n",
        "           [-0.26, -0.27, 0.17, 0.87]]\n",
        "\n",
        "biases1 = [2, 3, 0.5]\n",
        "\n",
        "weights2 = [[0.1, -0.14, 0.5],\n",
        "            [-0.5, 0.12, -0.33],\n",
        "            [-0.44, 0.73, -0.13]]\n",
        "\n",
        "biases2 = [-1, 2, -0.5]\n",
        "\n",
        "weights3 = [[0.1, -0.14, 0.5],\n",
        "            [-0.5, 0.12, -0.33],\n",
        "            [-0.44, 0.73, -0.13]]\n",
        "\n",
        "biases3 = [-1, 2, -0.5]\n",
        "\n",
        "weights4 = [[0.1, -0.14, 0.5],\n",
        "            [-0.5, 0.12, -0.33],\n",
        "            [-0.44, 0.73, -0.13]]\n",
        "\n",
        "biases4 = [-1, 2, -0.5]\n",
        "\n",
        "output1 = np.dot(np.array(inputs), np.array(weights1).T) + np.array(biases1)\n",
        "print(f'Output1: {output1}')\n",
        "output2 = np.dot(np.array(output1), np.array(weights2).T) + np.array(biases2)\n",
        "print(f'Output2: {output2}')\n",
        "output3 = np.dot(np.array(output2), np.array(weights3).T) + np.array(biases3)\n",
        "print(f'Output3: {output3}')\n",
        "output4 = np.dot(np.array(output3), np.array(weights4).T) + np.array(biases4)\n",
        "print(f'Output4: {output4}')"
      ],
      "metadata": {
        "colab": {
          "base_uri": "https://localhost:8080/"
        },
        "id": "-5xx5RzWjLoS",
        "outputId": "480e8dfa-978e-4ed8-c212-0a80b529e068"
      },
      "execution_count": 51,
      "outputs": [
        {
          "output_type": "stream",
          "name": "stdout",
          "text": [
            "Output1: [[ 4.8    1.21   2.385]\n",
            " [ 8.9   -1.81   0.2  ]\n",
            " [ 1.41   1.051  0.026]]\n",
            "Output2: [[ 0.5031  -1.04185 -2.03875]\n",
            " [ 0.2434  -2.7332  -5.7633 ]\n",
            " [-0.99314  1.41254 -0.35655]]\n",
            "Output3: [[-1.823206   2.2962155 -1.216877 ]\n",
            " [-3.474662   3.452205  -1.853103 ]\n",
            " [-1.4753446  2.7837363  1.0144873]]\n",
            "Output4: [[-2.11222927  3.58871827  2.13664196]\n",
            " [-2.7573264   4.76311959  3.78986432]\n",
            " [-1.03001389  2.73693985  2.04939577]]\n"
          ]
        }
      ]
    }
  ]
}